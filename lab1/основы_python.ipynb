{
  "cells": [
    {
      "cell_type": "markdown",
      "metadata": {},
      "source": [
        "# Тестирование"
      ]
    },
    {
      "cell_type": "code",
      "execution_count": 10,
      "metadata": {},
      "outputs": [],
      "source": [
        "def test(f, tests):\n",
        "    for (test_case, correct_value) in tests.items():\n",
        "        if (f(test_case) == correct_value if type(test_case) != tuple \n",
        "            else f(*test_case) == correct_value): \n",
        "            print(f\"✅ Test «{test_case}» passed\")\n",
        "        else:\n",
        "            print(f\"❌ Test «{test_case}» failed\")"
      ]
    },
    {
      "cell_type": "markdown",
      "metadata": {
        "id": "M-DGa20PaHnu"
      },
      "source": [
        "# Задача 1\n",
        "Написать функцию на вход которой подается строка, состоящая из латинских букв.\n",
        "Функция должна вернуть количество гласных букв (a, e, i, o, u) в этой строке. Написать тесты для кода"
      ]
    },
    {
      "cell_type": "code",
      "execution_count": 13,
      "metadata": {
        "id": "XvX8X_JJ6PCb"
      },
      "outputs": [
        {
          "name": "stdout",
          "output_type": "stream",
          "text": [
            "✅ Test «aeiou» passed\n",
            "✅ Test «aeiouaeiou» passed\n"
          ]
        }
      ],
      "source": [
        "def f(string):\n",
        "    return sum(letter in ['a', 'e', 'i', 'o', 'u'] for letter in string)\n",
        "\n",
        "test(f, tests={\n",
        "        \"aeiou\": 5,\n",
        "        \"aeiouaeiou\": 10\n",
        "    })"
      ]
    },
    {
      "cell_type": "markdown",
      "metadata": {
        "id": "t2ClV_Y0bbr6"
      },
      "source": [
        "# Задача 2\n",
        "Написать функцию на вход, которой подается строка. Функция должна вернуть true, если\n",
        "каждый символ в строке встречается только 1 раз, иначе должна вернуть false. Написать тесты для кода"
      ]
    },
    {
      "cell_type": "code",
      "execution_count": 14,
      "metadata": {
        "id": "FppbECao6VIz"
      },
      "outputs": [
        {
          "name": "stdout",
          "output_type": "stream",
          "text": [
            "✅ Test «aaaaa» passed\n",
            "✅ Test «a» passed\n"
          ]
        }
      ],
      "source": [
        "def f(string):\n",
        "    return \"true\" if len(set(string)) == len(string) else \"false\"\n",
        "\n",
        "test(f, tests = {\n",
        "        \"aaaaa\": \"false\",\n",
        "        \"a\": \"true\"\n",
        "    })"
      ]
    },
    {
      "cell_type": "markdown",
      "metadata": {
        "id": "udRiIK1cdt6E"
      },
      "source": [
        "# Задача 3\n",
        "Написать функцию, которая принимает положительное число и возвращает количество\n",
        "бит равных 1 в этом числе. Написать тесты для кода"
      ]
    },
    {
      "cell_type": "code",
      "execution_count": 15,
      "metadata": {
        "id": "6tkfDJRz6dp_"
      },
      "outputs": [
        {
          "name": "stdout",
          "output_type": "stream",
          "text": [
            "✅ Test «0» passed\n",
            "✅ Test «1» passed\n",
            "✅ Test «2» passed\n"
          ]
        }
      ],
      "source": [
        "def f(n):\n",
        "    return sum(digit == '1' for digit in bin(n))\n",
        "\n",
        "test(f, tests={\n",
        "        0: 0,\n",
        "        1: 1,\n",
        "        2: 1\n",
        "    })"
      ]
    },
    {
      "cell_type": "markdown",
      "metadata": {
        "id": "26dDUz-Ae17N"
      },
      "source": [
        "# Задача 4\n",
        "Написать функцию, которая принимает положительное число. Функция должна вернуть то,\n",
        "сколько раз необходимо перемножать цифры числа или результат перемножения, чтобы\n",
        "получилось число состоящее из одной цифры.\n",
        "Например, для входного числа:\n",
        "· 39 функция должна вернуть 3, так как 3×9=27 => 2×7=14 => 1×4=4\n",
        "· 4 функция должна вернуть 0, так как число уже состоит из одной цифры\n",
        "· 999 функция должна вернуть 4, так как 9×9×9=729 => 7×2×9=126 => 1×2×6=12 =>\n",
        "1×2=2. Написать тесты для кода"
      ]
    },
    {
      "cell_type": "code",
      "execution_count": 16,
      "metadata": {
        "id": "BH1A_Mgi6i4G"
      },
      "outputs": [
        {
          "name": "stdout",
          "output_type": "stream",
          "text": [
            "✅ Test «39» passed\n",
            "✅ Test «4» passed\n",
            "✅ Test «999» passed\n"
          ]
        }
      ],
      "source": [
        "def П(set_):\n",
        "    p = 1\n",
        "    for element in set_:\n",
        "        p *= element\n",
        "\n",
        "    return p\n",
        "\n",
        "def magic(n):\n",
        "    i = 0\n",
        "    while len(str(n)) != 1:\n",
        "        i += 1\n",
        "        n = П(map(int, str(n)))\n",
        "\n",
        "    return i\n",
        "\n",
        "test(magic, tests={\n",
        "        39: 3,\n",
        "        4: 0,\n",
        "        999: 4\n",
        "    })"
      ]
    },
    {
      "cell_type": "markdown",
      "metadata": {
        "id": "0nS-kIa8g8vd"
      },
      "source": [
        "# Задача 5\n",
        "Написать функцию, которая принимает два целочисленных вектора одинаковой длины и\n",
        "возвращает среднеквадратическое отклонение двух векторов. Написать тесты для кода"
      ]
    },
    {
      "cell_type": "code",
      "execution_count": 17,
      "metadata": {
        "id": "8iphx4LM6xbx"
      },
      "outputs": [
        {
          "name": "stdout",
          "output_type": "stream",
          "text": [
            "✅ Test «((1, 5), (3, 4))» passed\n"
          ]
        }
      ],
      "source": [
        "def mse(pred, true):\n",
        "    return (sum((pred[i] - true[i])**2 for i in (0, 1)) / 2)**0.5\n",
        "\n",
        "test(mse, tests={((1,5), (3,4)): (5/2)**.5})"
      ]
    },
    {
      "cell_type": "markdown",
      "metadata": {
        "id": "vpIPKL439zkw"
      },
      "source": [
        "# Задача 6\n",
        "Написать функцию, принимающая целое положительное число. Функция должна вернуть\n",
        "строку вида «($n_1$^$p_1$)($n_2$^$p_2$)...($n_k$^$p_k$)» представляющая разложение числа на простые\n",
        "множители (если $p_i = 1$, то выводить только $n_i$).\n",
        "Например, для числа $86240$ функция должна вернуть «(2^5)(5)(7^2)(11)». Написать тесты для кода"
      ]
    },
    {
      "cell_type": "code",
      "execution_count": 15,
      "metadata": {
        "id": "pFebmcZk94Jw"
      },
      "outputs": [
        {
          "name": "stdout",
          "output_type": "stream",
          "text": [
            "✅ Test «86240» passed\n"
          ]
        }
      ],
      "source": [
        "def get_divs(n):\n",
        "    divs = {1, n}\n",
        "    for i in range(2, int(n**0.5) + 1):\n",
        "        if n % i == 0:\n",
        "            divs.add(i)\n",
        "            divs.add(n//i)\n",
        "    return divs\n",
        "\n",
        "def is_prime(n):\n",
        "    return len(get_divs(n)) == 2\n",
        "\n",
        "def f(n):\n",
        "    string = \"\"\n",
        "    divs = get_divs(n)\n",
        "\n",
        "    if len(divs) == 2: return f\"({n})\"\n",
        "\n",
        "    divs = sorted({i for i in divs if is_prime(i)})\n",
        "\n",
        "    for div in divs:\n",
        "        exp = 0\n",
        "        while n % div == 0:\n",
        "            exp += 1\n",
        "            n //= div\n",
        "\n",
        "        if exp > 1:\n",
        "            string += f\"({div}^{exp})\"\n",
        "        else:\n",
        "            string += f\"({div})\"\n",
        "    \n",
        "    return string\n",
        "\n",
        "test(f, tests={86240: \"(2^5)(5)(7^2)(11)\"})\n"
      ]
    },
    {
      "cell_type": "markdown",
      "metadata": {
        "id": "ps2s0BudX7A2"
      },
      "source": [
        "# Задача 7\n",
        "Написать функцию, принимающая целое число n, задающее количество кубиков. Функция\n",
        "должна определить, можно ли из данного кол-ва кубиков построить пирамиду, то есть\n",
        "можно ли представить число n как $1^2+2^2+3^2+…+k^2$. Если можно, то функция должна\n",
        "вернуть $k$, иначе строку “It is impossible”. Написать тесты для кода"
      ]
    },
    {
      "cell_type": "code",
      "execution_count": 30,
      "metadata": {
        "id": "3YPjEXxhX_YT"
      },
      "outputs": [
        {
          "name": "stdout",
          "output_type": "stream",
          "text": [
            "✅ Test «30» passed\n"
          ]
        }
      ],
      "source": [
        "def pyramid(number):\n",
        "    sum_ = 1\n",
        "\n",
        "    i = 1\n",
        "    while sum_ + (i + 1)**2 <= number:\n",
        "        i += 1\n",
        "        sum_ += i**2\n",
        "    \n",
        "    return i if sum_ == number else \"It’s impossible\"\n",
        "\n",
        "test(pyramid, tests={30: 4})"
      ]
    },
    {
      "cell_type": "markdown",
      "metadata": {
        "id": "KeKgmIdAQMEJ"
      },
      "source": [
        "# Задача 8\n",
        "Функция принимает на вход положительное число и определяет является ли оно сбалансированным, т.е. сумма цифр до средних равна сумме цифр после. Средними в случае нечетного числа цифр считать одну цифру, в случае четного - две средних. Написать тесты для кода"
      ]
    },
    {
      "cell_type": "code",
      "execution_count": 44,
      "metadata": {
        "id": "gMAAqtqlQrZt"
      },
      "outputs": [
        {
          "name": "stdout",
          "output_type": "stream",
          "text": [
            "✅ Test «1111» passed\n"
          ]
        }
      ],
      "source": [
        "def f(n):\n",
        "    string = str(n)\n",
        "\n",
        "    if len(string) % 2 == 0:\n",
        "        left_sum = sum(int(string[i]) for i in range(int(len(string) / 2) - 1))\n",
        "        right_sum = sum(int(string[i]) for i in range(int(len(string) / 2) + 1, len(string)))\n",
        "\n",
        "        return left_sum == right_sum\n",
        "    \n",
        "    left_sum = sum(int(string[i]) for i in range((len(string) + 1) // 2 - 1))\n",
        "    right_sum = sum(int(string[i]) for i in range((len(string) + 1) // 2, len(string)))\n",
        "\n",
        "    return left_sum == right_sum\n",
        "\n",
        "test(f, tests={1111: True})\n"
      ]
    }
  ],
  "metadata": {
    "colab": {
      "provenance": []
    },
    "kernelspec": {
      "display_name": "Python 3",
      "name": "python3"
    },
    "language_info": {
      "codemirror_mode": {
        "name": "ipython",
        "version": 3
      },
      "file_extension": ".py",
      "mimetype": "text/x-python",
      "name": "python",
      "nbconvert_exporter": "python",
      "pygments_lexer": "ipython3",
      "version": "3.13.1"
    }
  },
  "nbformat": 4,
  "nbformat_minor": 0
}
